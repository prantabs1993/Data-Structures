{
  "nbformat": 4,
  "nbformat_minor": 0,
  "metadata": {
    "colab": {
      "provenance": [],
      "authorship_tag": "ABX9TyN/N48CYx5OPke/SQmeEKd6",
      "include_colab_link": true
    },
    "kernelspec": {
      "name": "python3",
      "display_name": "Python 3"
    },
    "language_info": {
      "name": "python"
    }
  },
  "cells": [
    {
      "cell_type": "markdown",
      "metadata": {
        "id": "view-in-github",
        "colab_type": "text"
      },
      "source": [
        "<a href=\"https://colab.research.google.com/github/prantabs1993/Data-Structures/blob/main/Functions_Assignment.ipynb\" target=\"_parent\"><img src=\"https://colab.research.google.com/assets/colab-badge.svg\" alt=\"Open In Colab\"/></a>"
      ]
    },
    {
      "cell_type": "code",
      "execution_count": null,
      "metadata": {
        "id": "mMuv-GDbV62f"
      },
      "outputs": [],
      "source": []
    },
    {
      "cell_type": "markdown",
      "source": [
        "# ***Theory Questions***"
      ],
      "metadata": {
        "id": "8ttvS1RxWqtq"
      }
    },
    {
      "cell_type": "code",
      "source": [
        "1. What is the difference between a function and a method in Python?\n",
        "Ans. In Python, a function is a reusable block of code that performs a specific task and can be called by name,\n",
        " while a method is a function that is associated with an object or class and is invoked using dot notation.\n",
        "\n",
        "2. Explain the concept of function arguments and parameters in Python.\n",
        "Ans.Parameters are variables defined in a function's definition, while arguments are the actual values passed to the function when it's called.\n",
        "\n",
        "3. What are the different ways to define and call a function in Python?\n",
        "Ans. In Python, you define functions using the def keyword, followed by the function name, parentheses for parameters\n",
        " (optional), and a colon, with the function body indented. To call a function, simply use its name followed by parentheses,\n",
        "  optionally with arguments.\n",
        "Defining a Function:\n",
        "Keyword: Use def to start the function definition.\n",
        "Function Name: Choose a descriptive name for your function.\n",
        "Parameters: Define parameters within the parentheses, separated by commas.\n",
        "Colon: End the function header with a colon (:).\n",
        "Indentation: The function body (the code that executes) must be indented.\n",
        "Example:\n",
        "Python\n",
        "\n",
        "    def greet(name):\n",
        "        print(f\"Hello, {name}!\")\n",
        "Calling a Function:\n",
        "Function Name: Use the name of the function you defined.\n",
        "Parentheses: Follow the function name with parentheses.\n",
        "Arguments: Pass arguments (values) to the function within the parentheses, separated by commas.\n",
        "Example:\n",
        "Python\n",
        "\n",
        "    greet(\"Alice\")  # Output: Hello, Alice!\n",
        "Types of Arguments:\n",
        "Positional Arguments: Arguments passed to the function based on their position in the function call.\n",
        "Keyword Arguments: Arguments passed to the function using their parameter names.\n",
        "Default Arguments: Parameters that have a default value, which is used if no argument is passed during the function call.\n",
        "Variable-Length Arguments: Functions can accept a variable number of arguments using *args (for positional arguments) and\n",
        " **kwargs (for keyword arguments).\n",
        "  def describe_person(name, age, city=\"Bengaluru\"):\n",
        "        print(f\"Name: {name}, Age: {age}, City: {city}\")\n",
        "\n",
        "    describe_person(\"Bob\", 30)  # Output: Name: Bob, Age: 30, City: Bengaluru\n",
        "    describe_person(\"Alice\", 25, \"New York\") # Output: Name: Alice, Age: 25, City: New York\n",
        "\n",
        "\n",
        "4. What is the purpose of the `return` statement in a Python function?\n",
        "Ans.The return statement in a Python function serves to terminate the function's execution and send a value back to the caller,\n",
        "allowing the function's output to be used elsewhere in the program.\n",
        "\n",
        "5. What are iterators in Python and how do they differ from iterables?\n",
        "Ans.Iterable is an object, that one can iterate over. It generates an Iterator when passed to iter() method. An iterator is an object,\n",
        " which is used to iterate over\n",
        "an iterable object using the __next__() method. Iterators have the __next__() method, which returns the next item of the object.\n",
        "\n",
        "Note: Every iterator is also an iterable, but not every iterable is an iterator in Python.\n",
        "\n",
        "For example, a list is iterable but a list is not an iterator. An iterator can be created from an iterable\n",
        " by using the function iter(). To make this possible, the class of an object needs either a method __iter__,\n",
        " which returns an iterator, or a __getitem__ method with sequential indexes starting with 0.\n",
        "\n",
        "\n",
        "6. Explain the concept of generators in Python and how they are defined.\n",
        "Ans.A generator function is a special type of function that returns an iterator object. Instead of using return to send back a single value,\n",
        " generator functions use yield to produce a\n",
        "series of results over time. This allows the function to generate values and pause its execution after each yield, maintaining\n",
        "its state between iterations.\n",
        "\n",
        "\n",
        "7. What are the advantages of using generators over regular functions?\n",
        "Ans.Generators offer advantages over regular functions, primarily in memory efficiency and lazy evaluation, making them ideal\n",
        "for handling large datasets or infinite sequences.\n",
        "Here's a more detailed breakdown:\n",
        "Memory Efficiency:\n",
        "Generators generate values on-the-fly, meaning they don't store the entire sequence in memory at once,\n",
        "unlike regular functions that might return a large list. This is crucial for handling large datasets or\n",
        "infinite sequences where storing everything in memory would be impractical.\n",
        "Lazy Evaluation:\n",
        "Generators use lazy evaluation, meaning values are computed only when they are needed, not all at once. This can lead to performance\n",
        "improvements, especially when dealing with large datasets or operations that might not require all values to be processed.\n",
        "Cooperative Multitasking:\n",
        "Generators can pause their execution with the yield keyword and later resume from where they left off, allowing for cooperative multitasking.\n",
        "Iterators:\n",
        "Generators are also iterators, meaning they can be used in loops and other contexts where iterables are expected.\n",
        "\n",
        "\n",
        "8. What is a lambda function in Python and when is it typically used?\n",
        "Ans.In Python, a lambda function is a small, anonymous function defined using the lambda keyword, typically used for short,\n",
        "one-time operations, and can take any number of arguments but only return a single expression.\n",
        "Here's a breakdown:\n",
        "What it is:\n",
        "Anonymous:\n",
        "Lambda functions don't have a name, unlike regular functions defined with def.\n",
        "Concise:\n",
        "They are designed for short, simple operations, often fitting on a single line.\n",
        "One-time use:\n",
        "They are frequently used where a small, temporary function is needed without the need for a named function.\n",
        "Syntax:\n",
        "lambda arguments: expression\n",
        "When to use them:\n",
        "As arguments to other functions:\n",
        "Lambda functions are particularly useful when you need to pass a function as an argument to another function, such as map(), filter(), or sorted().\n",
        "Simple operations:\n",
        "When you need a small, temporary function to perform a single operation, like sorting by a specific key or applying a transformation.\n",
        "Code readability:\n",
        "In some cases, using a lambda function can make your code more readable by avoiding the need for a separate, named function for a simple task.\n",
        "\n",
        "9. Explain the purpose and usage of the `map()` function in Python.\n",
        "Ans. The map() function is used to apply a given function to every item of an iterable, such as a list or tuple, and returns a map object (which is an iterator).\n",
        "    Let’s start with a simple example of using map() to convert a list of strings into a list of integers.The map() function executes a specified function for each item in an iterable.\n",
        "     The item is sent to the function as a parameter.\n",
        "   eg; def myfunc(a, b):\n",
        "      return a + b\n",
        "\n",
        "      x = map(myfunc, ('apple', 'banana', 'cherry'), ('orange', 'lemon', 'pineapple'))\n",
        "\n",
        "\n",
        "10.  What is the difference between `map()`, `reduce()`, and `filter()` functions in Python?\n",
        "Ans. The map () function returns a map object(which is an iterator) of the results after applying the given function to each item of a given iterable (list, tuple, etc.).\n",
        "\n",
        "Syntax: map(fun, iter)\n",
        "\n",
        "Parameters:\n",
        "\n",
        "fun: It is a function to which map passes each element of given iterable.\n",
        "iter:  iterable object to be mapped.\n",
        "Example: In this example, Python program showcases the usage of the map function to double each number in a given list by applying the double function to each element, and then printing the result as a list.\n",
        "\n",
        "\n",
        "\n",
        "\n",
        "# Function to return double of n\n",
        "def double(n):\n",
        "    return n * 2\n",
        "\n",
        "# Using map to double all numbers\n",
        "numbers = [5, 6, 7, 8]\n",
        "result = map(double, numbers)\n",
        "print(list(result))\n",
        "\n",
        "Output\n",
        "[10, 12, 14, 16]\n",
        "Reduce Function in Python\n",
        "The reduce function is used to apply a particular function passed in its argument to all of the list elements mentioned in the sequence passed along.This function is defined in “functools” module.\n",
        "\n",
        "Syntax: reduce(func, iterable[, initial])\n",
        "\n",
        "Parameters:\n",
        "\n",
        "fun: It is a function to execuate on each element of the iterable object.\n",
        "iter: It is iterable to be reduced\n",
        "Example : In this example, we are using reduce() function from the functools module to compute the product of elements in a given list by continuously applying the lambda function that multiplies two numbers together, resulting in the final product.\n",
        "\n",
        "\n",
        "\n",
        "\n",
        "import functools\n",
        "\n",
        "# Define a list of numbers\n",
        "numbers = [1, 2, 3, 4]\n",
        "\n",
        "# Use reduce to compute the product of list elements\n",
        "product = functools.reduce(lambda x, y: x * y, numbers)\n",
        "print(\"Product of list elements:\", product)\n",
        "\n",
        "Output\n",
        "Product of list elements: 24\n",
        "Filter Function in Python\n",
        "The filter() method filters the given sequence with the help of a function that tests each element in the sequence to be true or not.\n",
        "\n",
        "Syntax: filter(function, sequence)\n",
        "\n",
        "Parameters:\n",
        "\n",
        "function: function that tests if each element of a sequence is true or not.\n",
        "sequence: sequence which needs to be filtered, it can be sets, lists, tuples, or containers of any iterators.\n",
        "Example : In this example, we defines a function is_even to check whether a number is even or not. Then, it applies the filter() function to a list of numbers to extract only the even numbers, resulting in a list containing only the even elements. Finally, it prints the list of even numbers.\n",
        "\n",
        "\n",
        "\n",
        "\n",
        "# Define a function to check if a number is even\n",
        "def is_even(n):\n",
        "    return n % 2 == 0\n",
        "\n",
        "# Define a list of numbers\n",
        "numbers = [1, 2, 3, 4, 5, 6, 7, 8, 9, 10]\n",
        "\n",
        "# Use filter to filter out even numbers\n",
        "even_numbers = filter(is_even, numbers)\n",
        "print(\"Even numbers:\", list(even_numbers))\n",
        "\n",
        "Output\n",
        "Even numbers: [2, 4, 6, 8, 10]\n",
        "L\n",
        "\n",
        "\n",
        "11. Using pen & Paper write the internal mechanism for sum operation using  reduce function on this given\n",
        "list:[47,11,42,13];\n",
        "\n",
        "Ans. numbers = [47,11,42,13]\n",
        "# image attached with this notebook\n",
        "# Use reduce to compute the sum of list elements\n",
        "sum = functools.reduce(lambda x, y: x+ y, numbers)\n",
        "print(\"Sum of list elements:\",sum)"
      ],
      "metadata": {
        "id": "jBuM-QSxWp9G"
      },
      "execution_count": null,
      "outputs": []
    },
    {
      "cell_type": "markdown",
      "source": [],
      "metadata": {
        "id": "U8b3IhlaWQDd"
      }
    },
    {
      "cell_type": "code",
      "source": [
        "# Practical questions\n",
        "#1. Write a Python function that takes a list of numbers as input and returns the sum of all even numbers in\n",
        "#the list.\n",
        "list = input('Enter a list of numbers').split()\n",
        "sum = 0\n",
        "for num in list:\n",
        "    if int(num) % 2 == 0:\n",
        "        sum += int(num)\n",
        "print(sum)"
      ],
      "metadata": {
        "colab": {
          "base_uri": "https://localhost:8080/"
        },
        "id": "SsqJOao4biZ5",
        "outputId": "fc8cfcee-c740-4bcf-b282-a1eceb810e90"
      },
      "execution_count": null,
      "outputs": [
        {
          "output_type": "stream",
          "name": "stdout",
          "text": [
            "Enter a list of numbers1 2 3 \n",
            "2\n"
          ]
        }
      ]
    },
    {
      "cell_type": "code",
      "source": [
        "#2. Create a Python function that accepts a string and returns the reverse of that string.\n",
        "str = input('Enter the string')\n",
        "def reverse(str):\n",
        "    str = str[::-1]\n",
        "    return str\n",
        "print(reverse(str))"
      ],
      "metadata": {
        "id": "XSTk8758fYQZ",
        "colab": {
          "base_uri": "https://localhost:8080/"
        },
        "outputId": "c535f0c9-f23c-4237-eee1-dc31edfbc10a"
      },
      "execution_count": null,
      "outputs": [
        {
          "output_type": "stream",
          "name": "stdout",
          "text": [
            "Enter the stringaigydf\n",
            "fdygia\n"
          ]
        }
      ]
    },
    {
      "cell_type": "code",
      "source": [
        "#.3. Implement a Python function that takes a list of integers and returns a new list containing the squares of\n",
        "#each number.\n",
        "list = input('Enter a list of numbers').split()\n",
        "new_list = []\n",
        "for num in list:\n",
        "    new_list.append(int(num)**2)\n",
        "print(new_list)"
      ],
      "metadata": {
        "colab": {
          "base_uri": "https://localhost:8080/"
        },
        "id": "ZKBJOhhj3-O7",
        "outputId": "e35fa30a-8b73-40db-9d11-e95b5e6e83ad"
      },
      "execution_count": null,
      "outputs": [
        {
          "output_type": "stream",
          "name": "stdout",
          "text": [
            "Enter a list of numbers21 32 43\n",
            "[441, 1024, 1849]\n"
          ]
        }
      ]
    },
    {
      "cell_type": "code",
      "source": [
        "#4. Write a Python function that checks if a given number is prime or not from 1 to 200.\n",
        "num = int(input('Enter a number'))\n",
        "if num > 1:\n",
        "    for i in range(2, num):\n",
        "        if (num % i) == 0:\n",
        "            print(num, \"is not a prime number\")\n",
        "            break\n",
        "    else:\n",
        "        print(num, \"is a prime number\")"
      ],
      "metadata": {
        "id": "UoUuFkOE50Ay",
        "colab": {
          "base_uri": "https://localhost:8080/"
        },
        "outputId": "56ce6435-4b2c-46d3-a03c-7a3a39d37061"
      },
      "execution_count": null,
      "outputs": [
        {
          "output_type": "stream",
          "name": "stdout",
          "text": [
            "Enter a number3\n",
            "3 is a prime number\n"
          ]
        }
      ]
    },
    {
      "cell_type": "code",
      "source": [
        "#5. Create an iterator class in Python that generates the Fibonacci sequence up to a specified number of\n",
        "#terms.\n",
        "\n",
        "class fibonacci:\n",
        " terms = input('Enter the number of terms;')\n",
        " n1 = 0\n",
        " n2 = 1\n",
        " print(n1, n2, end = \" \")\n",
        " for i in range(2, int(terms)):\n",
        "  n3 = n1 + n2\n",
        "  n1 = n2\n",
        "  n2 = n3\n",
        "  print(n3, end =\" \")\n",
        "\n",
        "\n"
      ],
      "metadata": {
        "id": "PaG2aW0KexAd",
        "colab": {
          "base_uri": "https://localhost:8080/"
        },
        "outputId": "5a8afdf2-3f6d-4e1a-914f-8009518a1656"
      },
      "execution_count": null,
      "outputs": [
        {
          "output_type": "stream",
          "name": "stdout",
          "text": [
            "Enter the number of terms;5\n",
            "0 1 1 2 3 "
          ]
        }
      ]
    },
    {
      "cell_type": "code",
      "source": [
        "from ctypes import resize\n",
        "#6. Write a generator function in Python that yields the powers up to a given exponent.\n",
        "def power_func(base, exponent):\n",
        " result = 1\n",
        " for i in range (0, exponent):\n",
        "   result = result * base\n",
        "   yield result\n",
        "base = int(input('Enter the base'))\n",
        "exponent = int(input('Enter the exponent'))\n",
        "for i in power_func(base, exponent):\n",
        "  print(i)\n",
        "\n"
      ],
      "metadata": {
        "colab": {
          "base_uri": "https://localhost:8080/"
        },
        "id": "KoGC0CEqBB0O",
        "outputId": "25d4ceb0-0525-4dcb-ea42-ab94ac48303b"
      },
      "execution_count": null,
      "outputs": [
        {
          "output_type": "stream",
          "name": "stdout",
          "text": [
            "Enter the base2\n",
            "Enter the exponent3\n",
            "2\n",
            "4\n",
            "8\n"
          ]
        }
      ]
    },
    {
      "cell_type": "code",
      "source": [
        "#7. Implement a generator function that reads a file line by line and yields each line as a string\n",
        "def read_file_line_by_line(filepath):\n",
        "    with open(filepath, 'r') as file:\n",
        "        for line in file:\n",
        "            yield line.strip()  # Yield each line, removing leading/trailing whitespace"
      ],
      "metadata": {
        "id": "jC_I3J8sIHZq"
      },
      "execution_count": null,
      "outputs": []
    },
    {
      "cell_type": "code",
      "source": [
        "#8. Use a lambda function in Python to sort a list of tuples based on the second element of each tuple.\n",
        "a = [(1, 3), (4, 1), (2, 2)]\n",
        "\n",
        "# Sort the list based on the second element\n",
        "res = sorted(a, key=lambda x: x[1])\n",
        "\n",
        "print(res)"
      ],
      "metadata": {
        "colab": {
          "base_uri": "https://localhost:8080/"
        },
        "id": "bxzLV1tMYAWo",
        "outputId": "b6256ae7-932d-4fed-ae30-23e84104094e"
      },
      "execution_count": null,
      "outputs": [
        {
          "output_type": "stream",
          "name": "stdout",
          "text": [
            "[(4, 1), (2, 2), (1, 3)]\n"
          ]
        }
      ]
    },
    {
      "cell_type": "code",
      "source": [
        "#9. Write a Python program that uses `map()` to convert a list of temperatures from Celsius to Fahrenheit.\n",
        "temp = [23, 25, 27, 29]\n",
        "tempf = list(map((lambda x: (x*9/5)+32), temp))\n",
        "print('Temperature in Fahrenheit is :', tempf)"
      ],
      "metadata": {
        "colab": {
          "base_uri": "https://localhost:8080/"
        },
        "id": "lFSx3HniYsCE",
        "outputId": "f35e1efa-2930-421e-c6f0-f1498ffc7905"
      },
      "execution_count": null,
      "outputs": [
        {
          "output_type": "stream",
          "name": "stdout",
          "text": [
            "Temperature in Fahrenheit is : [73.4, 77.0, 80.6, 84.2]\n"
          ]
        }
      ]
    },
    {
      "cell_type": "code",
      "source": [
        "#10. Create a Python program that uses `filter()` to remove all the vowels from a given string\n",
        "str = input('Enter a string')\n",
        "vowels = ['a','e','i','o','u','A','E','I','O','U']\n",
        "result = list(filter(lambda x: x not in vowels, str))\n",
        "print(result)\n"
      ],
      "metadata": {
        "id": "SViy95COaK9K",
        "colab": {
          "base_uri": "https://localhost:8080/"
        },
        "outputId": "32753652-f16e-428f-efcb-ccf18afe65b9"
      },
      "execution_count": 4,
      "outputs": [
        {
          "output_type": "stream",
          "name": "stdout",
          "text": [
            "Enter a stringmy name is pranjal\n",
            "['m', 'y', ' ', 'n', 'm', ' ', 's', ' ', 'p', 'r', 'n', 'j', 'l']\n"
          ]
        }
      ]
    },
    {
      "cell_type": "code",
      "source": [
        "#11.  Imagine an accounting routine used in a book shop. It works on a list with sublists, which look like this:\n",
        "#Write a Python program, which returns a list with 2-tuples. Each tuple consists of the order number and the\n",
        "#product of the price per item and the quantity. The product should be increased by 10,- € if the value of the\n",
        "#order is smaller than 100,00 €.\n",
        "\n",
        "#Write a Python program using lambda and map.\n",
        "from functools import reduce\n",
        "\n",
        "orders = [ [1, (\"5464\", 4, 9.99), (\"8274\",18,12.99), (\"9744\", 9, 44.95)],[2, (\"5464\", 9, 9.99), (\"9744\", 9, 44.95)],[3, (\"5464\", 9, 9.99), (\"88112\", 11, 24.99)],[4, (\"8732\", 7, 11.99), (\"7733\",11,18.99), (\"88112\", 5, 39.95)] ]\n",
        "\n",
        "invoice = list(map(lambda k: k if k[1]>=100 else (k[0],k[1]+10),map(lambda x:(x[0],reduce(lambda a,b:a+b,list(map(lambda y:y[1]*y[2] ,x[1:])))),orders)))\n",
        "output1=map(lambda y:y[1]*y[2] ,x[1:])\n",
        "output2=list(map(lambda y:y[1]*y[2] ,x[1:]))\n",
        "output3=reduce(lambda a,b:a+b,list(map(lambda y:y[1]*y[2] ,x[1:])))\n",
        "output4=map(lambda x:(x[0],reduce(lambda a,b:a+b,list(map(lambda y:y[1]*y[2] ,x[1:])))))\n",
        "output5=map(lambda k: k if k[1]>=100 else (k[0],k[1]+10),map(lambda x:(x[0],reduce(lambda a,b:a+b,list(map(lambda y:y[1]*y[2] ,x[1:])))),orders))\n",
        "output6=list(map(lambda k: k if k[1]>=100 else (k[0],k[1]+10),map(lambda x:(x[0],reduce(lambda a,b:a+b,list(map(lambda y:y[1]*y[2] ,x[1:])))),orders)))\n"
      ],
      "metadata": {
        "colab": {
          "base_uri": "https://localhost:8080/",
          "height": 228
        },
        "id": "P23UNhihBmT3",
        "outputId": "632877c8-0199-4da6-bea4-b6447d6512db"
      },
      "execution_count": 7,
      "outputs": [
        {
          "output_type": "error",
          "ename": "NameError",
          "evalue": "name 'x' is not defined",
          "traceback": [
            "\u001b[0;31m---------------------------------------------------------------------------\u001b[0m",
            "\u001b[0;31mNameError\u001b[0m                                 Traceback (most recent call last)",
            "\u001b[0;32m<ipython-input-7-faca40f6ed78>\u001b[0m in \u001b[0;36m<cell line: 0>\u001b[0;34m()\u001b[0m\n\u001b[1;32m     10\u001b[0m \u001b[0;34m\u001b[0m\u001b[0m\n\u001b[1;32m     11\u001b[0m \u001b[0minvoice\u001b[0m \u001b[0;34m=\u001b[0m \u001b[0mlist\u001b[0m\u001b[0;34m(\u001b[0m\u001b[0mmap\u001b[0m\u001b[0;34m(\u001b[0m\u001b[0;32mlambda\u001b[0m \u001b[0mk\u001b[0m\u001b[0;34m:\u001b[0m \u001b[0mk\u001b[0m \u001b[0;32mif\u001b[0m \u001b[0mk\u001b[0m\u001b[0;34m[\u001b[0m\u001b[0;36m1\u001b[0m\u001b[0;34m]\u001b[0m\u001b[0;34m>=\u001b[0m\u001b[0;36m100\u001b[0m \u001b[0;32melse\u001b[0m \u001b[0;34m(\u001b[0m\u001b[0mk\u001b[0m\u001b[0;34m[\u001b[0m\u001b[0;36m0\u001b[0m\u001b[0;34m]\u001b[0m\u001b[0;34m,\u001b[0m\u001b[0mk\u001b[0m\u001b[0;34m[\u001b[0m\u001b[0;36m1\u001b[0m\u001b[0;34m]\u001b[0m\u001b[0;34m+\u001b[0m\u001b[0;36m10\u001b[0m\u001b[0;34m)\u001b[0m\u001b[0;34m,\u001b[0m\u001b[0mmap\u001b[0m\u001b[0;34m(\u001b[0m\u001b[0;32mlambda\u001b[0m \u001b[0mx\u001b[0m\u001b[0;34m:\u001b[0m\u001b[0;34m(\u001b[0m\u001b[0mx\u001b[0m\u001b[0;34m[\u001b[0m\u001b[0;36m0\u001b[0m\u001b[0;34m]\u001b[0m\u001b[0;34m,\u001b[0m\u001b[0mreduce\u001b[0m\u001b[0;34m(\u001b[0m\u001b[0;32mlambda\u001b[0m \u001b[0ma\u001b[0m\u001b[0;34m,\u001b[0m\u001b[0mb\u001b[0m\u001b[0;34m:\u001b[0m\u001b[0ma\u001b[0m\u001b[0;34m+\u001b[0m\u001b[0mb\u001b[0m\u001b[0;34m,\u001b[0m\u001b[0mlist\u001b[0m\u001b[0;34m(\u001b[0m\u001b[0mmap\u001b[0m\u001b[0;34m(\u001b[0m\u001b[0;32mlambda\u001b[0m \u001b[0my\u001b[0m\u001b[0;34m:\u001b[0m\u001b[0my\u001b[0m\u001b[0;34m[\u001b[0m\u001b[0;36m1\u001b[0m\u001b[0;34m]\u001b[0m\u001b[0;34m*\u001b[0m\u001b[0my\u001b[0m\u001b[0;34m[\u001b[0m\u001b[0;36m2\u001b[0m\u001b[0;34m]\u001b[0m \u001b[0;34m,\u001b[0m\u001b[0mx\u001b[0m\u001b[0;34m[\u001b[0m\u001b[0;36m1\u001b[0m\u001b[0;34m:\u001b[0m\u001b[0;34m]\u001b[0m\u001b[0;34m)\u001b[0m\u001b[0;34m)\u001b[0m\u001b[0;34m)\u001b[0m\u001b[0;34m)\u001b[0m\u001b[0;34m,\u001b[0m\u001b[0morders\u001b[0m\u001b[0;34m)\u001b[0m\u001b[0;34m)\u001b[0m\u001b[0;34m)\u001b[0m\u001b[0;34m\u001b[0m\u001b[0;34m\u001b[0m\u001b[0m\n\u001b[0;32m---> 12\u001b[0;31m \u001b[0moutput1\u001b[0m\u001b[0;34m=\u001b[0m\u001b[0mmap\u001b[0m\u001b[0;34m(\u001b[0m\u001b[0;32mlambda\u001b[0m \u001b[0my\u001b[0m\u001b[0;34m:\u001b[0m\u001b[0my\u001b[0m\u001b[0;34m[\u001b[0m\u001b[0;36m1\u001b[0m\u001b[0;34m]\u001b[0m\u001b[0;34m*\u001b[0m\u001b[0my\u001b[0m\u001b[0;34m[\u001b[0m\u001b[0;36m2\u001b[0m\u001b[0;34m]\u001b[0m \u001b[0;34m,\u001b[0m\u001b[0mx\u001b[0m\u001b[0;34m[\u001b[0m\u001b[0;36m1\u001b[0m\u001b[0;34m:\u001b[0m\u001b[0;34m]\u001b[0m\u001b[0;34m)\u001b[0m\u001b[0;34m\u001b[0m\u001b[0;34m\u001b[0m\u001b[0m\n\u001b[0m\u001b[1;32m     13\u001b[0m \u001b[0moutput2\u001b[0m\u001b[0;34m=\u001b[0m\u001b[0mlist\u001b[0m\u001b[0;34m(\u001b[0m\u001b[0mmap\u001b[0m\u001b[0;34m(\u001b[0m\u001b[0;32mlambda\u001b[0m \u001b[0my\u001b[0m\u001b[0;34m:\u001b[0m\u001b[0my\u001b[0m\u001b[0;34m[\u001b[0m\u001b[0;36m1\u001b[0m\u001b[0;34m]\u001b[0m\u001b[0;34m*\u001b[0m\u001b[0my\u001b[0m\u001b[0;34m[\u001b[0m\u001b[0;36m2\u001b[0m\u001b[0;34m]\u001b[0m \u001b[0;34m,\u001b[0m\u001b[0mx\u001b[0m\u001b[0;34m[\u001b[0m\u001b[0;36m1\u001b[0m\u001b[0;34m:\u001b[0m\u001b[0;34m]\u001b[0m\u001b[0;34m)\u001b[0m\u001b[0;34m)\u001b[0m\u001b[0;34m\u001b[0m\u001b[0;34m\u001b[0m\u001b[0m\n\u001b[1;32m     14\u001b[0m \u001b[0moutput3\u001b[0m\u001b[0;34m=\u001b[0m\u001b[0mreduce\u001b[0m\u001b[0;34m(\u001b[0m\u001b[0;32mlambda\u001b[0m \u001b[0ma\u001b[0m\u001b[0;34m,\u001b[0m\u001b[0mb\u001b[0m\u001b[0;34m:\u001b[0m\u001b[0ma\u001b[0m\u001b[0;34m+\u001b[0m\u001b[0mb\u001b[0m\u001b[0;34m,\u001b[0m\u001b[0mlist\u001b[0m\u001b[0;34m(\u001b[0m\u001b[0mmap\u001b[0m\u001b[0;34m(\u001b[0m\u001b[0;32mlambda\u001b[0m \u001b[0my\u001b[0m\u001b[0;34m:\u001b[0m\u001b[0my\u001b[0m\u001b[0;34m[\u001b[0m\u001b[0;36m1\u001b[0m\u001b[0;34m]\u001b[0m\u001b[0;34m*\u001b[0m\u001b[0my\u001b[0m\u001b[0;34m[\u001b[0m\u001b[0;36m2\u001b[0m\u001b[0;34m]\u001b[0m \u001b[0;34m,\u001b[0m\u001b[0mx\u001b[0m\u001b[0;34m[\u001b[0m\u001b[0;36m1\u001b[0m\u001b[0;34m:\u001b[0m\u001b[0;34m]\u001b[0m\u001b[0;34m)\u001b[0m\u001b[0;34m)\u001b[0m\u001b[0;34m)\u001b[0m\u001b[0;34m\u001b[0m\u001b[0;34m\u001b[0m\u001b[0m\n",
            "\u001b[0;31mNameError\u001b[0m: name 'x' is not defined"
          ]
        }
      ]
    },
    {
      "cell_type": "code",
      "source": [],
      "metadata": {
        "id": "xaAWiYVMVQwj"
      },
      "execution_count": null,
      "outputs": []
    }
  ]
}